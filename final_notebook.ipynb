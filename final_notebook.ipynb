{
 "cells": [
  {
   "cell_type": "markdown",
   "metadata": {},
   "source": [
    "<h2 style = \"text-align: center;\">Advanced Data Science for Traffic and Transportation Engineering</h2>\n",
    "\n",
    "<h3 style = \"text-align: center;\">Determine the Position of Road Inspectors - Rijkswaterstaat</h3><br><br>\n",
    "\n",
    "<div style=\"display:flex\">\n",
    "     <div style=\"flex:1;padding-right:10px;\">\n",
    "          <img src=\"./Images/rws.jpg\" width=\"260\"/>\n",
    "     </div>\n",
    "     <div style=\"flex:1;padding-left:10px;\">\n",
    "          <img src=\"./Images/tud.png\" width=\"200\"/>\n",
    "     </div>\n",
    "</div>\n",
    "<h3 style = \"text-align: left;\">Group 3</h3>\n",
    "\n",
    "<ul>\n",
    "     <li>Yiman Bao (5691648)</li>\n",
    "     <li>Juan Camargo Fonseca (5834112))</li>\n",
    "     <li>Tijmen Hoedjes (4959183)</li>\n",
    "     <li>Max Lange (5169402)</li>\n",
    "     <li>Wail Abdellaoui (5130654)</li>\n",
    "</ul>"
   ]
  },
  {
   "cell_type": "markdown",
   "metadata": {},
   "source": [
    "### **Content** ###\n",
    "\n",
    "**This notebook is structured as follows:**\n",
    "\n",
    "<b>1. Introduction</b>\n",
    "<b><p style=\"margin-left: 40px\">1.1 Research Objective and Research Questions</p></b>\n",
    "<b><p style=\"margin-left: 40px\">1.2 Tech Stack</p></b>\n",
    "<b><p style=\"margin-left: 40px\">1.3 Project Management</p></b>\n",
    "\n",
    "<b>2. Data Story</b>\n",
    "<b><p style=\"margin-left: 40px\">2.1 Data Overview</p></b>\n",
    "<b><p style=\"margin-left: 40px\">2.2 Data Filtering and Preprocessing</p></b>\n",
    "<b><p style=\"margin-left: 40px\">2.3 Streamlit App</p></b>\n",
    "\n",
    "<b>3. Algorithm</b>\n",
    "<b><p style=\"margin-left: 40px\">3.1 Algorithm Requirements</p></b>\n",
    "<b><p style=\"margin-left: 40px\">3.2 Methodology - Overview</p></b>\n",
    "\n",
    "<b>4. Results</b>\n",
    "\n",
    "<b>5. Validation</b>\n",
    "\n",
    "<b>6. Conclusion</b>\n",
    "\n",
    "\n",
    "\n"
   ]
  },
  {
   "cell_type": "markdown",
   "metadata": {},
   "source": [
    "### 1. Introduction ###\n",
    "\n",
    "Have you ever been involved in a road incident in the Netherlands? Did you ever were late to an appointment or event because an incident occurred? If you answered yes, it is most likely that you needed a road inspector to make your life easier. As you may have noticed by now, road inspectors are important to ensure safety on highways and a smooth traffic flow. When incident occur, they appear and make sure that the traffic can quickly resume. Therefore, you can imagine it is important for them to show up as soon as possible when incidents happen. In consequence, an optimal distribution of the inspectors to make sure that they will arrive shortly after the incident occur is necessary, in this document we discuss the considerations made for reaching this objective, and the implications of this for road users in the Netherlands.\n",
    "\n",
    "#### 1.1 Research Objective and Research Questions ####\n",
    "\n",
    "The research objective is to find out the optimal location of inspectors in the Dutch road network, such that travel time to the incidents is minimized. For reaching this objective the following research question(s) are proposed. <br><br><b>Main Research Question:</b> What would be the optimal location of road inspectors in the Netherlands, such that travel times to incidents are minimized?\n",
    "\n",
    "<b>Sub questions:</b>\n",
    "<ol>\n",
    "    <li> To what extent the data provided by Rijkswaterstaat is useful for the research objective? </li>\n",
    "    <li> How do the incidents distribute in time and space in the Dutch network? </li>\n",
    "    <li> What type of method is suitable for evaluating the accident probabilities? </li>\n",
    "    <li> What are the locations in which accidents are more likely to happen? </li>\n",
    "    <li> What variables would affect the response time of the inspectors? </li>\n",
    "    <li> How to calculate the response time of the inspectors?  </li>\n",
    "    <li> What is the optimal number of road inspectors needed?  </li>\n",
    "    <li> What is the optimal location for the road inspectors?  </li>\n",
    "</ol>\n",
    "    \n",
    "#### 1.2 Tech Stack ####\n",
    "\n",
    "Given the requirement of this project, the following is the tech stack that will be used for reaching the research objective.\n",
    "\n",
    "<b> Coding: </b>The main programming language used will be Python, and necessary packages for data analytics such as Pandas, NumPy, GeoPandas, SciPy and scikit-learn will be imported as necessary.\n",
    "\n",
    "<b> Visualization: </b>For standard data visualization, Python libraries such as Matplotlib, Plotly and Seaborn will be employed. For Geospatial visualization, additional tools such as Folium and Rasterio are considered.\n",
    "\n",
    "<b> Version Control: </b>Git and GitHub will be used for code tracking and collaboration.\n",
    "\n",
    "<b> Communication: </b>Weekly in-person meetings are planned. However, Microsoft Teams can be used as necessary.\n",
    "\n",
    "<b> Documentation: </b>Jupyter Notebooks will be used for documenting code, analysis, results and conclusions.\n",
    "\n",
    "The following code block imports the necessary packages and libraries."
   ]
  },
  {
   "cell_type": "code",
   "execution_count": null,
   "metadata": {},
   "outputs": [],
   "source": []
  },
  {
   "cell_type": "code",
   "execution_count": null,
   "metadata": {},
   "outputs": [],
   "source": []
  },
  {
   "cell_type": "code",
   "execution_count": 2,
   "metadata": {},
   "outputs": [
    {
     "name": "stdout",
     "output_type": "stream",
     "text": [
      "^C\n"
     ]
    }
   ],
   "source": [
    "!streamlit run Homepage.py"
   ]
  }
 ],
 "metadata": {
  "kernelspec": {
   "display_name": "geospatial",
   "language": "python",
   "name": "python3"
  },
  "language_info": {
   "codemirror_mode": {
    "name": "ipython",
    "version": 3
   },
   "file_extension": ".py",
   "mimetype": "text/x-python",
   "name": "python",
   "nbconvert_exporter": "python",
   "pygments_lexer": "ipython3",
   "version": "3.9.18"
  }
 },
 "nbformat": 4,
 "nbformat_minor": 2
}
