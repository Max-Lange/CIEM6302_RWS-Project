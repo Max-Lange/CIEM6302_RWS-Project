{
 "cells": [
  {
   "cell_type": "markdown",
   "metadata": {},
   "source": [
    "<h2 style = \"text-align: center;\">Advanced Data Science for Traffic and Transportation Engineering</h2>\n",
    "\n",
    "<h3 style = \"text-align: center;\">Determine the Position of Road Inspectors - Rijkswaterstaat</h3><br><br>\n",
    "\n",
    "<div style=\"display:flex\">\n",
    "     <div style=\"flex:1;padding-right:10px;\">\n",
    "          <img src=\"./Images/rws.jpg\" width=\"260\"/>\n",
    "     </div>\n",
    "     <div style=\"flex:1;padding-left:10px;\">\n",
    "          <img src=\"./Images/tud.png\" width=\"200\"/>\n",
    "     </div>\n",
    "</div>\n",
    "<h3 style = \"text-align: left;\">Group 3</h3>\n",
    "\n",
    "<ul>\n",
    "     <li>Yiman Bao (5691648)</li>\n",
    "     <li>Juan Camargo Fonseca (5834112))</li>\n",
    "     <li>Tijmen Hoedjes (4959183)</li>\n",
    "     <li>Max Lange (5169402)</li>\n",
    "     <li>Wail Abdellaoui (5130654)</li>\n",
    "</ul>"
   ]
  },
  {
   "cell_type": "markdown",
   "metadata": {},
   "source": [
    "### **Content** ###\n",
    "\n",
    "**This notebook is structured as follows:**\n",
    "\n",
    "<b>1. Introduction</b>\n",
    "<b><p style=\"margin-left: 40px\">1.1 Research Objective and Research Questions</p></b>\n",
    "<b><p style=\"margin-left: 40px\">1.2 Tech Stack</p></b>\n",
    "<b><p style=\"margin-left: 40px\">1.3 Ethical Considerations</p></b>\n",
    "<b><p style=\"margin-left: 40px\">1.4 Project Management</p></b>\n",
    "\n",
    "\n",
    "<b>2. Data Story</b>\n",
    "<b><p style=\"margin-left: 40px\">2.1 Data Overview</p></b>\n",
    "<b><p style=\"margin-left: 40px\">2.2 Data Filtering and Preprocessing</p></b>\n",
    "<b><p style=\"margin-left: 40px\">2.3 Streamlit App</p></b>\n",
    "\n",
    "<b>3. Algorithm</b>\n",
    "<b><p style=\"margin-left: 40px\">3.1 Algorithm Requirements</p></b>\n",
    "<b><p style=\"margin-left: 40px\">3.2 Methodology - Overview</p></b>\n",
    "\n",
    "<b>4. Results</b>\n",
    "\n",
    "<b>5. Validation</b>\n",
    "\n",
    "<b>6. Conclusions</b>\n",
    "\n",
    "\n",
    "\n"
   ]
  },
  {
   "cell_type": "markdown",
   "metadata": {},
   "source": [
    "### 1. Introduction ###\n",
    "\n",
    "Have you ever been involved in a road incident in the Netherlands? Did you ever were late to an appointment or event because an incident occurred? If you answered yes, it is most likely that you needed a road inspector to make your life easier. As you may have noticed by now, road inspectors are important to ensure safety on highways and a smooth traffic flow. When incident occur, they appear and make sure that the traffic can quickly resume. Therefore, you can imagine it is important for them to show up as soon as possible when incidents happen. In consequence, an optimal distribution of the inspectors to make sure that they will arrive shortly after the incident occur is necessary, in this document we discuss the considerations made for reaching this objective, and the implications of this for road users in the Netherlands.\n",
    "\n",
    "#### 1.1 Research Objective and Research Questions ####\n",
    "\n",
    "The research objective is to find out the optimal location of inspectors in the Dutch road network, such that travel time to the incidents is minimized. For reaching this objective the following research question(s) are proposed. <br><br><b>Main Research Question:</b> What would be the optimal location of road inspectors in the Netherlands, such that travel times to incidents are minimized?\n",
    "\n",
    "<b>Sub questions:</b>\n",
    "<ol>\n",
    "    <li> To what extent the data provided by Rijkswaterstaat is useful for the research objective? </li>\n",
    "    <li> How do the incidents distribute in time and space in the Dutch network? </li>\n",
    "    <li> What type of method is suitable for evaluating the accident probabilities? </li>\n",
    "    <li> What are the locations in which accidents are more likely to happen? </li>\n",
    "    <li> What variables would affect the response time of the inspectors? </li>\n",
    "    <li> How to calculate the response time of the inspectors?  </li>\n",
    "    <li> What is the optimal number of road inspectors needed?  </li>\n",
    "    <li> What is the optimal location for the road inspectors?  </li>\n",
    "</ol>\n",
    "    \n",
    "#### 1.2 Tech Stack ####\n",
    "\n",
    "Given the requirement of this project, the following is the tech stack that will be used for reaching the research objective.\n",
    "\n",
    "<b> Coding: </b>The main programming language used will be Python, and necessary packages for data analytics such as Pandas, NumPy, GeoPandas, SciPy and scikit-learn will be imported as necessary.\n",
    "\n",
    "<b> Visualization: </b>For standard data visualization, Python libraries such as Matplotlib, Plotly and Seaborn will be employed. For Geospatial visualization, additional tools such as Folium and Rasterio are considered.\n",
    "\n",
    "<b> Version Control: </b>Git and GitHub will be used for code tracking and collaboration.\n",
    "\n",
    "<b> Communication: </b>Weekly in-person meetings are planned. However, Microsoft Teams can be used as necessary.\n",
    "\n",
    "<b> Documentation: </b>Jupyter Notebooks will be used for documenting code, analysis, results and conclusions.\n",
    "\n",
    "The following code block imports the necessary packages and libraries."
   ]
  },
  {
   "cell_type": "code",
   "execution_count": 1,
   "metadata": {},
   "outputs": [],
   "source": [
    "import pandas as pd\n",
    "import matplotlib.pyplot as plt\n",
    "from shapely.geometry import Point\n",
    "from datetime import datetime\n",
    "import geopandas as gpd\n",
    "import numpy as np\n",
    "from sklearn.neighbors import KernelDensity\n",
    "from scipy.stats import gaussian_kde\n",
    "import networkx as nx\n",
    "import node_probability\n",
    "import random\n",
    "from matplotlib.lines import Line2D\n",
    "import scipy.stats\n",
    "\n",
    "import data_filtering\n",
    "from projection_conversions import DutchRDtoWGS84, WGS84toDutchRD\n",
    "# import validation\n",
    "from collections import defaultdict"
   ]
  },
  {
   "cell_type": "markdown",
   "metadata": {},
   "source": [
    "#### 1.3 Ethical Considerations ####\n",
    "\n",
    "For this project, a Value Sensitive Design approach is to be followed, for which the stakeholders of the project need to be identified, along with their values and possible value conflicts that may arise. The first stakeholder is Rijkswaterstaat, owner of the project and provider of the data, as previously state, its main goal is to optimize the response time of the road inspectors when an incident occurs on the road network, however they have limited inspector capacity. Another stakeholder are the road users, for which the motorway network represents a way of meeting they daily needs, and who expect the network to be safe and to enable them to travel from A to B in the least possible time. Finally, another important stakeholder to be considered is police and law enforcement, as sometimes incidents can involve fatalities or injuries, in those cases it is necessary to carry out specific procedures in which they need to be involved.<br><br>\n",
    "Different values can be recognized from these perspectives: in the case of Rijkswaterstaat, efficiency and sustainability are the main driving factors, whereas from users’ perspective safety and reliability are important, and from law enforcement’s side privacy and due diligence are relevant as well. Unfortunately, these objectives cannot be met simultaneously in the project; for example, if many inspectors are assigned to the network, response time can be optimized but the sustainability of the project will be compromised, as well as user safety and ability to travel in the least time possible; the other way around also generates conflicts, as having few inspectors will harm efficiency and also cooperation with authorities in case it is needed.<br><br>\n",
    "On the other hand, the following issues regarding privacy, fairness and bias were identified:\n",
    "<ol>\n",
    "    <li>Data collection period is autumn/winter. (<b>bias</b>).<br><br> First, the incident data collection period is from August to December, which may cause some bias in the incident analysis results as only late summer, fall and early winter seasons are represented. For example, weather conditions can vary significantly between seasons, with fall potentially being more prone to rainy days and falling leaves, while early winter can be accompanied by cold weather and ice and snow, leading to differences in the type and frequency of incidents in different seasons. Finally, traffic flow on the roads may differ by season, due to holidays or special events that can take place, a feat that may affect the occurrence of incidents, making the analysis prone to flow-related biases if this is not accounted for.</li><br>\n",
    "    <li>Accidents can have some privacy issues (police, insurance claims, etc.) (<b>privacy</b>).<br><br> Privacy issues in accident data analysis may have some important impacts on the results. Due to privacy concerns, some sensitive information may have been removed or anonymized, resulting in limited availability of the data. This may result in missing or incomplete data sets, compromising the comprehensiveness of the accident analysis. Missing critical information may bias the results of the analysis, as all relevant factors cannot be considered. At the same time, data sampling may be limited due to privacy issues. Certain types of accidents or accidents for specific groups of people may not be adequately reflected in the data. This can lead to sampling bias, making the results less representative of the overall situation. Most importantly, however, relevant legal and ethical regulations must be followed when handling incident data to ensure that individual privacy rights are respected. These legal provisions may restrict the use, storage and sharing of data. Violating these regulations may lead to legal issues and may also affect the availability and quality of the data.</li><br>\n",
    "    <li>Algorithm prioritizing criteria (<b>Bias</b>) <br><br> After data processing and filtering, a large majority of the reported incidents occurred in motorways (A roads), while less than 7% of the data was reported in national highways (N roads). We consider that this can bring bias to the project in two manners, depending on the approach. The first one of them is representation bias, meaning that the main focus of the model will be on motorways and thus the solution devised may not capture the necessary features to devise an optimal inspector assignment for national highway. The second way in which this can bring a bias to the model is that the impact of a disruption may vary depending on the road type in which it occurs. Solely optimizing the response time of the road inspectors will result in a ‘first come, first served’ approach. This will mean that, if an incident in a motorway and another incident in a national highway occur close in time, the inspector assignment may not be optimal at a network level. </li><br>\n",
    "    <li>Representation bias: unequal representation of accident types (<b>bias</b>)<br><br>Following a similar line of reasoning, around of 80% of the incidents reported correspond to vehicle obstructions, 13% correspond to accidents, and the remaining 7% are catalogued as general obstructions. In consequence, general trends will be like the vehicle obstruction category, and the model obtained can have a better performance for these than for accidents and general obstructions, which may undermine its capability to optimize the road position.</li><br>\n",
    "    <li> Data leakage (privacy) \n",
    "    Data from incidents involving citizens is used. The data itself does not reveal anything about individuals. However, combining this data with other information can lead to serious privacy violations. Therefore, sharing the data with other parties should be prohibited, also transparency about the use of data is important.\n",
    "    \n",
    "</ol>\n",
    "\n",
    "#### 1.4 Project Management ####"
   ]
  },
  {
   "cell_type": "markdown",
   "metadata": {},
   "source": [
    "For reaching the end goal of the project, a SCRUM project management framework was used. More detailed information can be found in the link below.\n",
    "\n",
    "<a href=\"https://tud365-my.sharepoint.com/:f:/g/personal/jcamargofonsec_tudelft_nl/Eqbxs-pfs0ZBh7_sFyhtFqsBP2QVSMZRoqllJnYncS0trA?e=UxQ82N\">Access Backlog Diary</a>"
   ]
  },
  {
   "cell_type": "markdown",
   "metadata": {},
   "source": [
    "### 2. Data Story ###\n",
    "\n",
    "#### 2.1 Data Overview ####\n",
    "\n",
    "For the development of the project, two datasets were provided. The first one of them is the Rijkswegen road network shapefile, which contains geometric and functional information of the main roads that compose the dutch motorway network. The second dataset is a csv file of 88,851 incidents that ocurred in the Netherlands, between July 31st, 2019 and December 31st, 2019, for every incident information regarding location, classification, starting time, end time and road number is included.\n",
    "\n",
    "#### 2.2 Data Filtering and Preprocessing ####\n",
    "\n",
    "After an initial exploration of the data, it was clear that some preprocessing and filtering was neccesary. For doing so, the following criteria was considered:\n",
    "\n",
    "<ol>\n",
    "    <li>Incidents that occurred in roads not included in the NWD Road Network Data.</li>\n",
    "    <li>Incidents that had a duration of zero (0) minutes or lasted longer than one day.</li>\n",
    "    <li>Incidents that did not occur in the Netherlands.</li>\n",
    "       \n",
    "</ol>\n",
    "\n",
    "After applying these procedures, a total of 13,977 incidents were removed. "
   ]
  },
  {
   "cell_type": "code",
   "execution_count": 3,
   "metadata": {},
   "outputs": [
    {
     "name": "stdout",
     "output_type": "stream",
     "text": [
      "Total incidents filtered out:  13977\n",
      "Percentage of incidents filtered out:  15.73 %\n"
     ]
    }
   ],
   "source": [
    "#Extract subnetwork\n",
    "highway_shapefile = 'Data/Shapefiles/Snelheid_Wegvakken.shp'\n",
    "road_network = gpd.read_file(highway_shapefile)\n",
    "road_network = road_network.to_crs(\"EPSG:4326\")\n",
    "\n",
    "path = 'Data/incidents19Q3Q4.csv'\n",
    "df_incident = pd.read_csv(path)\n",
    "df_incident['starttime_new'] = pd.to_datetime(df_incident['starttime_new'])\n",
    "df_incident['endtime_new'] = pd.to_datetime(df_incident['endtime_new'])\n",
    "tot_inc = len(df_incident)\n",
    "df_incident = data_filtering.filter_out(df_incident, road_network)\n",
    "red_inc = len(df_incident)\n",
    "\n",
    "#print amount of incidents filtered out\n",
    "print('Total incidents filtered out: ', tot_inc-red_inc)\n",
    "print('Percentage of incidents filtered out: ', np.round((tot_inc-red_inc)/tot_inc*100,2), '%')\n"
   ]
  },
  {
   "cell_type": "markdown",
   "metadata": {},
   "source": [
    "#### 2.3 Streamlit App ####\n",
    "\n",
    "For better data visualization, and with the intent of creating a datastory for our project, a Streamlit dashboard was created. The dashboard contains seven pages:\n",
    "\n",
    "<ol>\n",
    "    <li>Homepage: Contains and introduction and brief description of the project.<br><br></li>\n",
    "    <li>Research: In this page the research objective and research questions are described.<br><br></li>\n",
    "    <li>Visualise data: Enables data visualization according to different filtering parameters.<br><br></li>\n",
    "    <li>Maps: Shows a heatmap containing the incident clustering, heatmap and KDE map for the project.<br><br></li>\n",
    "    <li>Spatio-temporal: Enables visualization of incidents that occurred within a specific timeframe. <br><br></li>\n",
    "    <li>Algorithm: In which the algorithm explanation is done and results of inspector placement are visualized.<br><br></li>\n",
    "    <li>Evaluation: Contains considerations made regarding validation and testing of results.<br><br></li>\n",
    "</ol>\n",
    "To open the streamlit dashboard please run the cell below. Note that after you close the dashboard you should manually interrupt the cell execution as well.\n",
    "\n"
   ]
  },
  {
   "cell_type": "code",
   "execution_count": 4,
   "metadata": {},
   "outputs": [
    {
     "name": "stdout",
     "output_type": "stream",
     "text": [
      "^C\n"
     ]
    }
   ],
   "source": [
    "!streamlit run Homepage.py"
   ]
  },
  {
   "cell_type": "markdown",
   "metadata": {},
   "source": [
    "### 3. Algorithm ###"
   ]
  },
  {
   "cell_type": "code",
   "execution_count": null,
   "metadata": {},
   "outputs": [],
   "source": []
  }
 ],
 "metadata": {
  "kernelspec": {
   "display_name": "geospatial",
   "language": "python",
   "name": "python3"
  },
  "language_info": {
   "codemirror_mode": {
    "name": "ipython",
    "version": 3
   },
   "file_extension": ".py",
   "mimetype": "text/x-python",
   "name": "python",
   "nbconvert_exporter": "python",
   "pygments_lexer": "ipython3",
   "version": "3.9.18"
  }
 },
 "nbformat": 4,
 "nbformat_minor": 2
}
