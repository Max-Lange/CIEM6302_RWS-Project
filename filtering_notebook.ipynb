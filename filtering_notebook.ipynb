{
 "cells": [
  {
   "cell_type": "markdown",
   "metadata": {},
   "source": [
    "<h2 style = \"text-align: center;\">Advanced Data Science for Traffic and Transportation Engineering</h2>\n",
    "\n",
    "<h3 style = \"text-align: center;\">Determine the Position of Road Inspectors - Rijkswaterstaat</h3><br><br>\n",
    "\n",
    "<div style=\"display:flex\">\n",
    "     <div style=\"flex:1;padding-right:10px;\">\n",
    "          <h3 style = \"text-align: left;\">Group 3</h3>\n",
    "        <ul>\n",
    "            <li>Yiman Bao (5691648)</li>\n",
    "            <li>Juan Camargo Fonseca (5834112)</li>\n",
    "            <li>Tijmen Hoedjes (4959183)</li>\n",
    "            <li>Max Lange (5169402)</li>\n",
    "            <li>Wail Abdellaoui (5130654)</li>\n",
    "        </ul>\n",
    "     </div>\n",
    "     <div style=\"flex:1;padding-left:10px;\">\n",
    "          <img src=\"Images/TUDelft_logo.jpg\" width=\"300\"/>\n",
    "     </div>\n",
    "</div>"
   ]
  },
  {
   "cell_type": "markdown",
   "metadata": {},
   "source": [
    "### Content ###\n",
    "\n",
    "**To be updated**\n"
   ]
  },
  {
   "cell_type": "markdown",
   "metadata": {},
   "source": [
    "### 1. Introduction ###\n",
    "\n",
    "To ensure safety on highways and a smooth traffic flow, road inspectors are  important. When accidents occur, they appear and make sure that the traffic can quickly resume. It is important for these people to show up as soon as possible when accidents happen. So, an optimal distribution of the inspectors to make sure that they will arrive shortly after the accident is necessary.\n",
    "\n",
    "#### 1.1 Research Objective and Research Questions ####\n",
    "\n",
    "The research objective is to find out the optimal location of inspectors in the Dutch road network, such that travel time to the incidents is minimized. For reaching this objective the following research question(s) are proposed. <br><br><b>Main Research Question:</b> What would be the optimal location of road inspectors in the Netherlands, such that travel times to incidents are minimized?\n",
    "\n",
    "<b>Sub questions:</b>\n",
    "<ol>\n",
    "    <li> To what extent the data provided by Rijkswaterstaat is useful for the research objective? </li>\n",
    "    <li> How do the incidents distribute in time and space in the Dutch network? </li>\n",
    "    <li> What type of method is suitable for evaluating the accident probabilities? </li>\n",
    "    <li> What are the locations in which accidents are more likely to happen? </li>\n",
    "    <li> What variables would affect the response time of the inspectors? </li>\n",
    "    <li> How to calculate the response time of the inspectors?  </li>\n",
    "    <li> What is the optimal number of road inspectors needed?  </li>\n",
    "    <li> What is the optimal location for the road inspectors?  </li>\n",
    "</ol>\n",
    "    \n",
    "#### 1.2 Tech Stack ####\n",
    "\n",
    "Given the requirement of this project, the following is the tech stack that will be used for reaching the research objective.\n",
    "\n",
    "<b> Coding: </b>The main programming language used will be Python, and necessary packages for data analytics such as Pandas, NumPy, GeoPandas, SciPy and scikit-learn will be imported as necessary.\n",
    "\n",
    "<b> Visualization: </b>For standard data visualization, Python libraries such as Matplotlib, Plotly and Seaborn will be employed. For Geospatial visualization, additional tools such as Folium and Rasterio are considered.\n",
    "\n",
    "<b> Version Control: </b>Git and GitHub will be used for code tracking and collaboration.\n",
    "\n",
    "<b> Communication: </b>Weekly in-person meetings are planned. However, Microsoft Teams can be used as necessary.\n",
    "\n",
    "<b> Documentation: </b>Jupyter Notebooks will be used for documenting code, analysis, results and conclusions.\n",
    "\n",
    "The following code block imports the necessary packages and libraries."
   ]
  },
  {
   "cell_type": "code",
   "execution_count": 1,
   "metadata": {},
   "outputs": [],
   "source": [
    "import pandas as pd\n",
    "import geopandas as gpd\n",
    "import numpy as np\n",
    "from matplotlib import pyplot as plt\n",
    "from data_filtering import filter_out"
   ]
  },
  {
   "cell_type": "markdown",
   "metadata": {},
   "source": [
    "## 2. Data Analysis <br>\n",
    "\n",
    "### 2.1 Data description ###\n",
    "\n",
    "For the development of the project, two major datasets were provided. The first one of them is a shapefile of the main elements of the dutch motorway network, in which basic geometric and functional data is included. The second dataset is a csv file of 88,851 incidents that ocurred in this network in the year 2019; for every incident, information regarding location, classification, starting time, end time and road number is included.\n",
    "\n",
    "### 2.2 Preprocessing and data cleaning ###\n",
    "\n",
    "After an initial exploration of the data, it was clear that some preprocessing and filtering was neccesary. For doing so, the following criteria was considered:\n",
    "\n",
    "<ol>\n",
    "    <li>Incidents that occurred in roads not included in the NWD Road Network Data.</li>\n",
    "    <li>Incidents that had a duration of zero (0) minutes or lasted longer than one day.</li>\n",
    "       \n",
    "</ol>\n",
    "\n",
    "After applying these procedures, a total of 13,172 incidents were removed. "
   ]
  },
  {
   "cell_type": "code",
   "execution_count": 2,
   "metadata": {},
   "outputs": [],
   "source": [
    "global_crs = 'EPSG:4326'\n",
    "netherlands_crs = 'EPSG:28992'"
   ]
  },
  {
   "cell_type": "code",
   "execution_count": 3,
   "metadata": {},
   "outputs": [],
   "source": [
    "# Load Incidents DataFrame\n",
    "incidents_df = pd.read_csv('Data/incidents19Q3Q4.csv', parse_dates=['starttime_new', 'endtime_new'])\n",
    "\n",
    "# Load GeoDataFrame\n",
    "highway_shapefile = 'Data/Shapefiles/Snelheid_Wegvakken.shp'\n",
    "network_temp = gpd.read_file(highway_shapefile)"
   ]
  },
  {
   "cell_type": "code",
   "execution_count": 5,
   "metadata": {},
   "outputs": [
    {
     "name": "stdout",
     "output_type": "stream",
     "text": [
      " Incidents removed: 13172\n"
     ]
    }
   ],
   "source": [
    "# Filter Incidents DataFrame\n",
    "filtered_df = filter_out(incidents_df, network_temp)\n",
    "\n",
    "print(f\" Incidents removed: {incidents_df.shape[0] - filtered_df.shape[0]}\")"
   ]
  },
  {
   "cell_type": "code",
   "execution_count": null,
   "metadata": {},
   "outputs": [],
   "source": []
  }
 ],
 "metadata": {
  "kernelspec": {
   "display_name": "geospatial",
   "language": "python",
   "name": "python3"
  },
  "language_info": {
   "codemirror_mode": {
    "name": "ipython",
    "version": 3
   },
   "file_extension": ".py",
   "mimetype": "text/x-python",
   "name": "python",
   "nbconvert_exporter": "python",
   "pygments_lexer": "ipython3",
   "version": "3.9.18"
  },
  "orig_nbformat": 4
 },
 "nbformat": 4,
 "nbformat_minor": 2
}
