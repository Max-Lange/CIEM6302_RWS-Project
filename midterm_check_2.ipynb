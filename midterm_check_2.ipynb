{
 "cells": [
  {
   "cell_type": "markdown",
   "metadata": {},
   "source": [
    "<h2 style = \"text-align: center;\">Advanced Data Science for Traffic and Transportation Engineering</h2>\n",
    "\n",
    "<h3 style = \"text-align: center;\">Determine the Position of Road Inspectors - Rijkswaterstaat</h3><br><br>\n",
    "\n",
    "<div style=\"display:flex\">\n",
    "     <div style=\"flex:1;padding-right:10px;\">\n",
    "          <h3 style = \"text-align: left;\">Group 3</h3>\n",
    "        <ul>\n",
    "            <li>Yiman Bao (5691648)</li>\n",
    "            <li>Juan Camargo Fonseca (5834112)</li>\n",
    "            <li>Tijmen Hoedjes (4959183)</li>\n",
    "            <li>Max Lange (5169402)</li>\n",
    "            <li>Wail Abdellaoui (5130654)</li>\n",
    "        </ul>\n",
    "     </div>\n",
    "     <div style=\"flex:1;padding-left:10px;\">\n",
    "          <img src=\"Images/TUDelft_logo.jpg\" width=\"300\"/>\n",
    "     </div>\n",
    "</div>"
   ]
  },
  {
   "cell_type": "code",
   "execution_count": 1,
   "metadata": {},
   "outputs": [],
   "source": [
    "import data_filtering\n",
    "import pandas as pd\n",
    "import matplotlib.pyplot as plt\n",
    "from shapely.geometry import Point\n",
    "from datetime import datetime\n",
    "import geopandas as gpd\n",
    "import numpy as np\n",
    "from sklearn.neighbors import KernelDensity\n",
    "from scipy.stats import gaussian_kde\n",
    "import networkx as nx"
   ]
  },
  {
   "cell_type": "markdown",
   "metadata": {},
   "source": [
    "# 1 Probility of the incident"
   ]
  },
  {
   "cell_type": "markdown",
   "metadata": {},
   "source": [
    "## 1.1 Import data and filter the data"
   ]
  },
  {
   "cell_type": "code",
   "execution_count": 2,
   "metadata": {},
   "outputs": [],
   "source": [
    "#Extract subnetwork\n",
    "highway_shapefile = 'Data/Shapefiles/Snelheid_Wegvakken.shp'\n",
    "road_network = gpd.read_file(highway_shapefile)\n",
    "road_network = road_network.to_crs(\"EPSG:4326\")"
   ]
  },
  {
   "cell_type": "code",
   "execution_count": 3,
   "metadata": {},
   "outputs": [],
   "source": [
    "path = 'Data/incidents19Q3Q4.csv'\n",
    "df_incident = pd.read_csv(path)\n",
    "df_incident['starttime_new'] = pd.to_datetime(df_incident['starttime_new'])\n",
    "df_incident['endtime_new'] = pd.to_datetime(df_incident['endtime_new'])\n",
    "df_incident = data_filtering.filter_out(df_incident, road_network)"
   ]
  },
  {
   "cell_type": "markdown",
   "metadata": {},
   "source": [
    "## 1.2 Kernel Density Estimation"
   ]
  },
  {
   "cell_type": "markdown",
   "metadata": {},
   "source": [
    "Kernel Density Estimation (KDE) is a non-parametric statistical method used to estimate the probability density function (PDF) of a data set. It helps us convert discrete incident data points into incident probability densities on the map. \n",
    "In kernel density estimation, an important parameter is bandwidth. An excessively large bandwidth will make the probability density distribution more blurry, while a lower bandwidth will make it more difficult to obtain the probability by subsequent integration. Currently, we chose\n"
   ]
  },
  {
   "cell_type": "markdown",
   "metadata": {},
   "source": []
  }
 ],
 "metadata": {
  "kernelspec": {
   "display_name": "geospatial",
   "language": "python",
   "name": "geospatial"
  },
  "language_info": {
   "codemirror_mode": {
    "name": "ipython",
    "version": 3
   },
   "file_extension": ".py",
   "mimetype": "text/x-python",
   "name": "python",
   "nbconvert_exporter": "python",
   "pygments_lexer": "ipython3",
   "version": "3.9.18"
  }
 },
 "nbformat": 4,
 "nbformat_minor": 2
}
